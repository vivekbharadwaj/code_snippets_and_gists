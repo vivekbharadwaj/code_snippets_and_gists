{
 "cells": [
  {
   "cell_type": "markdown",
   "metadata": {},
   "source": [
    "## Use vectorised numpy operations to achieve what you're trying to do in 2 steps..."
   ]
  },
  {
   "cell_type": "markdown",
   "metadata": {},
   "source": [
    "#### Step 1 will get the column means, and step 2 will replace the null values with means"
   ]
  },
  {
   "cell_type": "markdown",
   "metadata": {},
   "source": [
    "__STEP 1__<br\\>\n",
    "colmean = np.nanmean([your numpy array], axis = 0)<br\\>\n",
    "\n",
    "__STEP 2__<br\\>\n",
    "[your numpy array][np.where(np.isnan(your array))]=np.take(colmean,np.where(np.isnan(your array))[1])"
   ]
  },
  {
   "cell_type": "markdown",
   "metadata": {},
   "source": [
    "I realise this chaining may seem like a mouthful to swallow. Let's break it up then..."
   ]
  },
  {
   "cell_type": "markdown",
   "metadata": {},
   "source": [
    "I've included all the steps so that you can recreate it..."
   ]
  },
  {
   "cell_type": "code",
   "execution_count": 1,
   "metadata": {
    "collapsed": false
   },
   "outputs": [],
   "source": [
    "import numpy as np"
   ]
  },
  {
   "cell_type": "code",
   "execution_count": 56,
   "metadata": {
    "collapsed": false
   },
   "outputs": [
    {
     "data": {
      "text/plain": [
       "array([[ 0,  1,  2,  3,  4],\n",
       "       [ 5,  6,  7,  8,  9],\n",
       "       [10, 11, 12, 13, 14],\n",
       "       [15, 16, 17, 18, 19]])"
      ]
     },
     "execution_count": 56,
     "metadata": {},
     "output_type": "execute_result"
    }
   ],
   "source": [
    "temp = np.arange(20).reshape(4,5)\n",
    "temp"
   ]
  },
  {
   "cell_type": "code",
   "execution_count": 57,
   "metadata": {
    "collapsed": false
   },
   "outputs": [
    {
     "data": {
      "text/plain": [
       "array([[  0.,   1.,   2.,   3.,   4.],\n",
       "       [  5.,   6.,   7.,   8.,   9.],\n",
       "       [ 10.,  11.,  12.,  13.,  14.],\n",
       "       [ 15.,  16.,  17.,  18.,  19.]])"
      ]
     },
     "execution_count": 57,
     "metadata": {},
     "output_type": "execute_result"
    }
   ],
   "source": [
    "# since we want to play with null values, let's convert the whole array into float\n",
    "\n",
    "temp = temp.astype(float)\n",
    "temp"
   ]
  },
  {
   "cell_type": "code",
   "execution_count": 58,
   "metadata": {
    "collapsed": false
   },
   "outputs": [
    {
     "data": {
      "text/plain": [
       "array([[  0.,   1.,  nan,   3.,   4.],\n",
       "       [  5.,   6.,  nan,   8.,   9.],\n",
       "       [ 10.,  nan,  nan,  13.,  14.],\n",
       "       [ 15.,  16.,  17.,  18.,  19.]])"
      ]
     },
     "execution_count": 58,
     "metadata": {},
     "output_type": "execute_result"
    }
   ],
   "source": [
    "# now, let's remove data from a couple of cells in order to create your situation\n",
    "\n",
    "temp[2,1] = np.nan\n",
    "temp[0,2] = np.nan\n",
    "temp[1,2] = np.nan\n",
    "temp[2,2] = np.nan\n",
    "temp"
   ]
  },
  {
   "cell_type": "code",
   "execution_count": 59,
   "metadata": {
    "collapsed": false
   },
   "outputs": [
    {
     "data": {
      "text/plain": [
       "array([[  6.,  nan,   8.],\n",
       "       [ nan,  nan,  13.]])"
      ]
     },
     "execution_count": 59,
     "metadata": {},
     "output_type": "execute_result"
    }
   ],
   "source": [
    "# you can get creative in the ways in which you can access a numpy array!\n",
    "temp[1:-1,1:-1]"
   ]
  },
  {
   "cell_type": "code",
   "execution_count": 60,
   "metadata": {
    "collapsed": false
   },
   "outputs": [
    {
     "data": {
      "text/plain": [
       "array([  7.5       ,   7.66666667,  17.        ,  10.5       ,  11.5       ])"
      ]
     },
     "execution_count": 60,
     "metadata": {},
     "output_type": "execute_result"
    }
   ],
   "source": [
    "# the numpy method nanmean will give you the column means (if axis = 0) is used by ignoring the nans\n",
    "colmean = np.nanmean(temp, axis = 0)\n",
    "colmean"
   ]
  },
  {
   "cell_type": "code",
   "execution_count": 63,
   "metadata": {
    "collapsed": false
   },
   "outputs": [
    {
     "data": {
      "text/plain": [
       "(array([0, 1, 2, 2], dtype=int64), array([2, 2, 1, 2], dtype=int64))"
      ]
     },
     "execution_count": 63,
     "metadata": {},
     "output_type": "execute_result"
    }
   ],
   "source": [
    "# get the indicies in the array that you need to replace with the column means\n",
    "indices = np.where(np.isnan(temp))\n",
    "indices"
   ]
  },
  {
   "cell_type": "code",
   "execution_count": 64,
   "metadata": {
    "collapsed": false
   },
   "outputs": [
    {
     "data": {
      "text/plain": [
       "array([[  0.        ,   1.        ,  17.        ,   3.        ,   4.        ],\n",
       "       [  5.        ,   6.        ,  17.        ,   8.        ,   9.        ],\n",
       "       [ 10.        ,   7.66666667,  17.        ,  13.        ,  14.        ],\n",
       "       [ 15.        ,  16.        ,  17.        ,  18.        ,  19.        ]])"
      ]
     },
     "execution_count": 64,
     "metadata": {},
     "output_type": "execute_result"
    }
   ],
   "source": [
    "#insert the column means in the indices. the take method is used to align the arrays\n",
    "temp[indices]=np.take(colmean,indices[1])\n",
    "\n",
    "# finally!\n",
    "temp"
   ]
  },
  {
   "cell_type": "markdown",
   "metadata": {},
   "source": [
    "## Even better, I suggest doing this using the power and elegance of pandas!"
   ]
  },
  {
   "cell_type": "markdown",
   "metadata": {},
   "source": [
    "### By using pandas, we can replace your requirement with one line of code: <br\\>\n",
    "__[your dataframe].fillna(dataframe.mean(), inplace = True__"
   ]
  },
  {
   "cell_type": "markdown",
   "metadata": {},
   "source": [
    "## Here's whats happening under the hood..."
   ]
  },
  {
   "cell_type": "code",
   "execution_count": 16,
   "metadata": {
    "collapsed": false
   },
   "outputs": [
    {
     "data": {
      "text/html": [
       "<div>\n",
       "<table border=\"1\" class=\"dataframe\">\n",
       "  <thead>\n",
       "    <tr style=\"text-align: right;\">\n",
       "      <th></th>\n",
       "      <th>labels</th>\n",
       "      <th>X</th>\n",
       "      <th>Y</th>\n",
       "      <th>Z</th>\n",
       "    </tr>\n",
       "  </thead>\n",
       "  <tbody>\n",
       "    <tr>\n",
       "      <th>0</th>\n",
       "      <td>a</td>\n",
       "      <td>37</td>\n",
       "      <td>12</td>\n",
       "      <td>72</td>\n",
       "    </tr>\n",
       "    <tr>\n",
       "      <th>1</th>\n",
       "      <td>b</td>\n",
       "      <td>9</td>\n",
       "      <td>75</td>\n",
       "      <td>5</td>\n",
       "    </tr>\n",
       "    <tr>\n",
       "      <th>2</th>\n",
       "      <td>c</td>\n",
       "      <td>79</td>\n",
       "      <td>64</td>\n",
       "      <td>16</td>\n",
       "    </tr>\n",
       "    <tr>\n",
       "      <th>3</th>\n",
       "      <td>d</td>\n",
       "      <td>1</td>\n",
       "      <td>76</td>\n",
       "      <td>71</td>\n",
       "    </tr>\n",
       "  </tbody>\n",
       "</table>\n",
       "</div>"
      ],
      "text/plain": [
       "  labels   X   Y   Z\n",
       "0      a  37  12  72\n",
       "1      b   9  75   5\n",
       "2      c  79  64  16\n",
       "3      d   1  76  71"
      ]
     },
     "execution_count": 16,
     "metadata": {},
     "output_type": "execute_result"
    }
   ],
   "source": [
    "# make sure you've downloaded like how we did it last week for the word cloud - pip install pandas\n",
    "\n",
    "#import the pandas module\n",
    "import pandas as pd\n",
    "\n",
    "# create a dataframe for testing\n",
    "np.random.seed(1)\n",
    "temp = pd.concat((pd.DataFrame({'labels':['a','b','c','d']}),\n",
    "                pd.DataFrame(np.random.randint(0,100,(4,3)),columns=list('XYZ'))\n",
    "                ),axis = 1)\n",
    "temp"
   ]
  },
  {
   "cell_type": "code",
   "execution_count": 19,
   "metadata": {
    "collapsed": false
   },
   "outputs": [
    {
     "data": {
      "text/html": [
       "<div>\n",
       "<table border=\"1\" class=\"dataframe\">\n",
       "  <thead>\n",
       "    <tr style=\"text-align: right;\">\n",
       "      <th></th>\n",
       "      <th>labels</th>\n",
       "      <th>X</th>\n",
       "      <th>Y</th>\n",
       "      <th>Z</th>\n",
       "    </tr>\n",
       "  </thead>\n",
       "  <tbody>\n",
       "    <tr>\n",
       "      <th>0</th>\n",
       "      <td>a</td>\n",
       "      <td>37.0</td>\n",
       "      <td>NaN</td>\n",
       "      <td>72.0</td>\n",
       "    </tr>\n",
       "    <tr>\n",
       "      <th>1</th>\n",
       "      <td>b</td>\n",
       "      <td>9.0</td>\n",
       "      <td>75.0</td>\n",
       "      <td>NaN</td>\n",
       "    </tr>\n",
       "    <tr>\n",
       "      <th>2</th>\n",
       "      <td>c</td>\n",
       "      <td>NaN</td>\n",
       "      <td>64.0</td>\n",
       "      <td>NaN</td>\n",
       "    </tr>\n",
       "    <tr>\n",
       "      <th>3</th>\n",
       "      <td>d</td>\n",
       "      <td>1.0</td>\n",
       "      <td>76.0</td>\n",
       "      <td>71.0</td>\n",
       "    </tr>\n",
       "  </tbody>\n",
       "</table>\n",
       "</div>"
      ],
      "text/plain": [
       "  labels     X     Y     Z\n",
       "0      a  37.0   NaN  72.0\n",
       "1      b   9.0  75.0   NaN\n",
       "2      c   NaN  64.0   NaN\n",
       "3      d   1.0  76.0  71.0"
      ]
     },
     "execution_count": 19,
     "metadata": {},
     "output_type": "execute_result"
    }
   ],
   "source": [
    "# now, let's remove data from a couple of cells in order to create your situation\n",
    "# notice iloc is the pandas construct for finding the integer location of the dataframe element\n",
    "\n",
    "temp.iloc[2,1] = np.nan\n",
    "temp.iloc[0,2] = np.nan\n",
    "temp.iloc[1,3] = np.nan\n",
    "temp.iloc[2,3] = np.nan\n",
    "temp"
   ]
  },
  {
   "cell_type": "code",
   "execution_count": 26,
   "metadata": {
    "collapsed": false
   },
   "outputs": [
    {
     "name": "stdout",
     "output_type": "stream",
     "text": [
      "mean calculated using numpy operations. Note: pandas uses numpy for statistical operations\n",
      "X    15.666667\n",
      "Y    71.666667\n",
      "Z    71.500000\n",
      "dtype: float64\n",
      "\n",
      "\n",
      "Calculating manually...\n",
      "Mean(X) =  15.6666666667\n",
      "Mean(Y) =  71.6666666667\n",
      "Mean(Z) =  71.5\n"
     ]
    }
   ],
   "source": [
    "# let's compute the means for all the columns. Notice the power of using numpy operations\n",
    "\n",
    "print \"mean calculated using numpy operations. Note: pandas uses numpy for statistical operations\"\n",
    "print temp.mean()\n",
    "print \"\\n\"\n",
    "\n",
    "# calculate manually\n",
    "print \"Calculating manually...\"\n",
    "print \"Mean(X) = \",(37.0+9+1)/3\n",
    "print \"Mean(Y) = \",(75.0+64+76)/3\n",
    "print \"Mean(Z) = \",(72.0+71)/2"
   ]
  },
  {
   "cell_type": "code",
   "execution_count": 27,
   "metadata": {
    "collapsed": false
   },
   "outputs": [
    {
     "data": {
      "text/html": [
       "<div>\n",
       "<table border=\"1\" class=\"dataframe\">\n",
       "  <thead>\n",
       "    <tr style=\"text-align: right;\">\n",
       "      <th></th>\n",
       "      <th>labels</th>\n",
       "      <th>X</th>\n",
       "      <th>Y</th>\n",
       "      <th>Z</th>\n",
       "    </tr>\n",
       "  </thead>\n",
       "  <tbody>\n",
       "    <tr>\n",
       "      <th>0</th>\n",
       "      <td>a</td>\n",
       "      <td>37.000000</td>\n",
       "      <td>71.666667</td>\n",
       "      <td>72.0</td>\n",
       "    </tr>\n",
       "    <tr>\n",
       "      <th>1</th>\n",
       "      <td>b</td>\n",
       "      <td>9.000000</td>\n",
       "      <td>75.000000</td>\n",
       "      <td>71.5</td>\n",
       "    </tr>\n",
       "    <tr>\n",
       "      <th>2</th>\n",
       "      <td>c</td>\n",
       "      <td>15.666667</td>\n",
       "      <td>64.000000</td>\n",
       "      <td>71.5</td>\n",
       "    </tr>\n",
       "    <tr>\n",
       "      <th>3</th>\n",
       "      <td>d</td>\n",
       "      <td>1.000000</td>\n",
       "      <td>76.000000</td>\n",
       "      <td>71.0</td>\n",
       "    </tr>\n",
       "  </tbody>\n",
       "</table>\n",
       "</div>"
      ],
      "text/plain": [
       "  labels          X          Y     Z\n",
       "0      a  37.000000  71.666667  72.0\n",
       "1      b   9.000000  75.000000  71.5\n",
       "2      c  15.666667  64.000000  71.5\n",
       "3      d   1.000000  76.000000  71.0"
      ]
     },
     "execution_count": 27,
     "metadata": {},
     "output_type": "execute_result"
    }
   ],
   "source": [
    "# now, filling it all in.\n",
    "temp.fillna(temp.mean(), inplace = True)\n",
    "# THATS IT!\n",
    "\n",
    "temp"
   ]
  }
 ],
 "metadata": {
  "kernelspec": {
   "display_name": "Python2.7_engagement_sprint",
   "language": "python",
   "name": "engagement_sprint"
  },
  "language_info": {
   "codemirror_mode": {
    "name": "ipython",
    "version": 2
   },
   "file_extension": ".py",
   "mimetype": "text/x-python",
   "name": "python",
   "nbconvert_exporter": "python",
   "pygments_lexer": "ipython2",
   "version": "2.7.11"
  }
 },
 "nbformat": 4,
 "nbformat_minor": 0
}

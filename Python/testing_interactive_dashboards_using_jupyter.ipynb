{
 "cells": [
  {
   "cell_type": "code",
   "execution_count": 15,
   "metadata": {
    "collapsed": false
   },
   "outputs": [
    {
     "data": {
      "text/html": [
       "<script>\n",
       "code_show=true; \n",
       "function code_toggle() {\n",
       " if (code_show){\n",
       " $('div.input').hide();\n",
       " } else {\n",
       " $('div.input').show();\n",
       " }\n",
       " code_show = !code_show\n",
       "} \n",
       "$( document ).ready(code_toggle);\n",
       "</script>\n",
       "<form action=\"javascript:code_toggle()\"><input type=\"submit\" value=\"Click here to toggle on/off the raw code.\"></form>"
      ],
      "text/plain": [
       "<IPython.core.display.HTML object>"
      ]
     },
     "execution_count": 15,
     "metadata": {},
     "output_type": "execute_result"
    }
   ],
   "source": [
    "from IPython.display import HTML\n",
    "\n",
    "HTML('''<script>\n",
    "code_show=true; \n",
    "function code_toggle() {\n",
    " if (code_show){\n",
    " $('div.input').hide();\n",
    " } else {\n",
    " $('div.input').show();\n",
    " }\n",
    " code_show = !code_show\n",
    "} \n",
    "$( document ).ready(code_toggle);\n",
    "</script>\n",
    "<form action=\"javascript:code_toggle()\"><input type=\"submit\" value=\"Click here to toggle on/off the raw code.\"></form>''')"
   ]
  },
  {
   "cell_type": "markdown",
   "metadata": {},
   "source": [
    "My thanks to BoM (Bureau of Meteorology) speakers Ioanna Ioannou and Maoyuan Liu for their Pycon 2016 talk about this subject and for sharing their experiences. Online resource [here](https://github.com/ch41rmn/PyConAU2016_-_Interactive_Data_Displays_With_Jupyter_Notebooks).\n",
    "\n",
    "Author: Vivek Bharadwaj<br\\>\n",
    "Date: 2/9/2016<br\\>"
   ]
  },
  {
   "cell_type": "markdown",
   "metadata": {},
   "source": [
    "# Some motivation to get us started. Why do this?"
   ]
  },
  {
   "cell_type": "markdown",
   "metadata": {},
   "source": [
    "## Breaking it down. Why use notebooks?"
   ]
  },
  {
   "cell_type": "markdown",
   "metadata": {},
   "source": [
    "- __Teams are genereally multi-disciplinary. A team has data scientists, business SMEs, managers, programmers__\n",
    "\n",
    "- __The people who want to see our analysis are not necessarily programmers. But we are (should be)__\n",
    "\n",
    "- __Excellent facility for plotting / visualisation__\n",
    "- __No need to know anything about web development__\n",
    "- __One of the most popular tool for scientific data exploration and analysis__\n",
    "- __Notebooks can be shared between different team members with each member generating plots on the fly__\n",
    "- __Ability to support interactive data displays within the browser enough to actually create plots__"
   ]
  },
  {
   "cell_type": "markdown",
   "metadata": {},
   "source": [
    "## Why not simply use matplotlib or bokeh?"
   ]
  },
  {
   "cell_type": "code",
   "execution_count": 14,
   "metadata": {
    "collapsed": false
   },
   "outputs": [
    {
     "data": {
      "text/html": [
       "<table>                  <tr>                      <td>                          <img src='http://matplotlib.org/_static/logo2.svg?arg' alt='Drawing' style='width: 300px;'/>                      </td>                      <td>                          <img src='http://www.linux-magazin.de/var/linux_magazin/storage/images/media/linux-magazin/images/bokeh4/1015326-1-ger-DE/bokeh_large.png?arg'>                      </td>                      <td>                          <img src='https://upload.wikimedia.org/wikipedia/commons/thumb/8/8a/Plotly_logo_for_digital_final_%286%29.png/330px-Plotly_logo_for_digital_final_%286%29.png?arg' alt='Drawing' style='width: 200px;'/>                      </td>                  </tr>              </table>"
      ],
      "text/plain": [
       "<IPython.core.display.HTML object>"
      ]
     },
     "metadata": {},
     "output_type": "display_data"
    }
   ],
   "source": [
    "from IPython.display import HTML, display\n",
    "display(HTML(\"<table> \\\n",
    "                 <tr> \\\n",
    "                     <td> \\\n",
    "                         <img src='http://matplotlib.org/_static/logo2.svg?arg' alt='Drawing' style='width: 300px;'/> \\\n",
    "                     </td> \\\n",
    "                     <td> \\\n",
    "                         <img src='http://www.linux-magazin.de/var/linux_magazin/storage/images/media/linux-magazin/images/bokeh4/1015326-1-ger-DE/bokeh_large.png?arg'> \\\n",
    "                     </td> \\\n",
    "                     <td> \\\n",
    "                         <img src='https://upload.wikimedia.org/wikipedia/commons/thumb/8/8a/Plotly_logo_for_digital_final_%286%29.png/330px-Plotly_logo_for_digital_final_%286%29.png?arg' alt='Drawing' style='width: 200px;'/> \\\n",
    "                     </td> \\\n",
    "                 </tr> \\\n",
    "             </table>\")\n",
    "       )"
   ]
  },
  {
   "cell_type": "markdown",
   "metadata": {},
   "source": [
    "Matplotlib doesnt allow interactivity.<br\\>\n",
    "Bokeh is extremely long codiung effort. Plus mouse-overs is not intuitive and is quite bad. Also needs data massaging into bokeh compatible format."
   ]
  },
  {
   "cell_type": "markdown",
   "metadata": {},
   "source": [
    "## Enter plot.ly and ipywidgets"
   ]
  },
  {
   "cell_type": "markdown",
   "metadata": {},
   "source": [
    "Benefit of ipywidgets is that it's a wrapper for all javascript routines that we need todo for Python callbacks for processing"
   ]
  },
  {
   "cell_type": "markdown",
   "metadata": {},
   "source": [
    "## How to share notebooks in a more generic way"
   ]
  },
  {
   "cell_type": "markdown",
   "metadata": {},
   "source": [
    "Sharing a notebook is out of the question:\n",
    "- Users may need to execute the code cells before the results become visible\n",
    "- Code mostly dominates the screenspace\n",
    "- Its not safe because the code execution kernel is exposed"
   ]
  },
  {
   "cell_type": "markdown",
   "metadata": {},
   "source": [
    "## Proprietary dashboards such as Tableau, Qlik"
   ]
  },
  {
   "cell_type": "markdown",
   "metadata": {},
   "source": [
    "- Pay cash\n",
    "- Their UI, their data formats, their constraints (example: sorting blended measures issue!)\n",
    "- "
   ]
  },
  {
   "cell_type": "markdown",
   "metadata": {},
   "source": [
    "## Introducting the Jupyter \"stack\""
   ]
  },
  {
   "cell_type": "markdown",
   "metadata": {},
   "source": [
    "![jupyter_stack](jupyter_stack.PNG?arg)"
   ]
  },
  {
   "cell_type": "markdown",
   "metadata": {},
   "source": [
    "## Drawbacks"
   ]
  },
  {
   "cell_type": "markdown",
   "metadata": {},
   "source": [
    "- Not for large scale publications\n",
    "- If we have 20 visitors per day thats fine"
   ]
  },
  {
   "cell_type": "code",
   "execution_count": null,
   "metadata": {
    "collapsed": true
   },
   "outputs": [],
   "source": []
  }
 ],
 "metadata": {
  "kernelspec": {
   "display_name": "Python2.7_engagement_sprint",
   "language": "python",
   "name": "engagement_sprint"
  },
  "language_info": {
   "codemirror_mode": {
    "name": "ipython",
    "version": 2
   },
   "file_extension": ".py",
   "mimetype": "text/x-python",
   "name": "python",
   "nbconvert_exporter": "python",
   "pygments_lexer": "ipython2",
   "version": "2.7.11"
  }
 },
 "nbformat": 4,
 "nbformat_minor": 0
}
